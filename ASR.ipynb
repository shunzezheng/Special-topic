{
 "cells": [
  {
   "cell_type": "code",
   "execution_count": 3,
   "id": "d7209917-3eb9-45e3-ba38-6b7c2f331cac",
   "metadata": {},
   "outputs": [
    {
     "name": "stdout",
     "output_type": "stream",
     "text": [
      "Python 3.9.7\n"
     ]
    },
    {
     "data": {
      "text/plain": [
       "('64bit', 'WindowsPE')"
      ]
     },
     "execution_count": 3,
     "metadata": {},
     "output_type": "execute_result"
    }
   ],
   "source": [
    "#查看python版本\n",
    "!python --version\n",
    "#查看python位元\n",
    "import platform\n",
    "platform.architecture()"
   ]
  },
  {
   "cell_type": "markdown",
   "id": "ac635536-e665-4ffc-9c95-7c7ddfe65878",
   "metadata": {},
   "source": [
    "#### 需先安裝SpeechRecognition(語音轉文字) and Pyaudio(讀取mic) and jieba(斷詞工具)\n",
    "#### _安裝PyAudio會錯誤，解決方法：https://ithelp.ithome.com.tw/articles/10267826_"
   ]
  },
  {
   "cell_type": "code",
   "execution_count": 55,
   "id": "c4a991f9-1826-4a57-9e26-976a82efc807",
   "metadata": {},
   "outputs": [
    {
     "name": "stdout",
     "output_type": "stream",
     "text": [
      "Collecting jieba\n",
      "  Downloading jieba-0.42.1.tar.gz (19.2 MB)\n",
      "Building wheels for collected packages: jieba\n",
      "  Building wheel for jieba (setup.py): started\n",
      "  Building wheel for jieba (setup.py): finished with status 'done'\n",
      "  Created wheel for jieba: filename=jieba-0.42.1-py3-none-any.whl size=19314478 sha256=72e1290d02e6cb62054ea86fdd75706775f8cbdba85b65f29db0adb435a389d4\n",
      "  Stored in directory: c:\\users\\tibame_t14\\appdata\\local\\pip\\cache\\wheels\\7d\\74\\cf\\08c94db4b784e2c1ef675a600b7b5b281fd25240dcb954ee7e\n",
      "Successfully built jieba\n",
      "Installing collected packages: jieba\n",
      "Successfully installed jieba-0.42.1\n"
     ]
    }
   ],
   "source": [
    "# !pip install PyAudio #ERROR\n",
    "# !pip install SpeechRecognition\n",
    "# !pip install jieba\n",
    "# !pip list"
   ]
  },
  {
   "cell_type": "code",
   "execution_count": 68,
   "id": "833d8ecc-261b-4f93-95d0-9108b66d4fa5",
   "metadata": {},
   "outputs": [
    {
     "name": "stdout",
     "output_type": "stream",
     "text": [
      "Say something!\n",
      "You said:\n",
      "你知道嗎\n"
     ]
    }
   ],
   "source": [
    "#語音轉文字\n",
    "\n",
    "import speech_recognition as sr\n",
    "#!sr.__version__\n",
    "\n",
    "#obtain audio from the microphone\n",
    "r=sr.Recognizer()\n",
    "\n",
    "#語音讀取\n",
    "with sr.Microphone() as source:\n",
    "    #create the ambient noise energy level\n",
    "    r.adjust_for_ambient_noise(source, duration=2)\n",
    "    print(\"Say something!\")\n",
    "    audio=r.listen(source)#檢測到靜音停止\n",
    "\n",
    "# recognize speech using Google Speech Recognition\n",
    "try:\n",
    "    print(\"You said:\")\n",
    "    #can use \",show_all=True\" for get all response\n",
    "    sentence=r.recognize_google(audio, language=\"zh-TW\")\n",
    "    print(sentence)\n",
    "except sr.UnknownValueError:\n",
    "    print(\"Google Speech Recognition could not understand audio\")\n",
    "except sr.RequestError as e:\n",
    "    print(\"No response from Google Speech Recognition service: {0}\".format(e))"
   ]
  },
  {
   "cell_type": "markdown",
   "id": "ac3a809a-ef76-47e4-be95-6ad0b2097600",
   "metadata": {},
   "source": [
    "<h3>自定義詞典格式</h3>\n",
    "\n",
    "* 一個詞占一行，每一行分三部分：詞語、詞頻（可省略）、磁性（可省略），用空格隔開，顺序不可錯誤。file 必須為 UTF-8 編碼。\n",
    "\n",
    "* 詞頻省略的話 Jieba 內建會自動計算，保證可以分出你自定義的詞頻。簡單來說，你可以想成，你自定義的詞語一定是優先度最大，儘管跟其他有衝突，你定義的 Jieba 一定會優先斷出來，保證正確性。"
   ]
  },
  {
   "cell_type": "code",
   "execution_count": 69,
   "id": "2e47b9f5-e929-4bc8-952c-f9320296115e",
   "metadata": {},
   "outputs": [
    {
     "name": "stdout",
     "output_type": "stream",
     "text": [
      "你/知道/嗎\n",
      "你/知道/嗎\n",
      "你/知道/嗎\n"
     ]
    }
   ],
   "source": [
    "#斷詞\n",
    "\n",
    "import jieba\n",
    "\n",
    "\n",
    "#自定義辭典\n",
    "#jieba.load_userdict (file_path)\n",
    "\n",
    "\n",
    "#精準模式：將句子最精確的切開，適合文本分析\n",
    "seg_list = jieba.cut(sentence)\n",
    "print('/'.join(seg_list))\n",
    "\n",
    "#全模式：把句子中所有的可以成詞的詞語都斷出来，速度非常快。\n",
    "seg_list = jieba.cut(sentence, cut_all=True)\n",
    "print('/'.join(seg_list))\n",
    "    \n",
    "#搜尋引擎模式：在精確模式的基礎上，對長的詞語再次切分，提高召回率，適合用於搜索引擎分詞。\n",
    "seg_list = jieba.cut_for_search(sentence)\n",
    "print('/'.join(seg_list))\n",
    "\n"
   ]
  }
 ],
 "metadata": {
  "kernelspec": {
   "display_name": "Python 3 (ipykernel)",
   "language": "python",
   "name": "python3"
  },
  "language_info": {
   "codemirror_mode": {
    "name": "ipython",
    "version": 3
   },
   "file_extension": ".py",
   "mimetype": "text/x-python",
   "name": "python",
   "nbconvert_exporter": "python",
   "pygments_lexer": "ipython3",
   "version": "3.9.7"
  }
 },
 "nbformat": 4,
 "nbformat_minor": 5
}
